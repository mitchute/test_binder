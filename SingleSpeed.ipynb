{
 "cells": [
  {
   "cell_type": "code",
   "execution_count": null,
   "metadata": {},
   "outputs": [],
   "source": [
    "import os\n",
    "\n",
    "import pandas as pd\n",
    "\n",
    "from IPython.display import Markdown\n",
    "\n",
    "import matplotlib.pyplot as plt\n",
    "%matplotlib inline"
   ]
  },
  {
   "cell_type": "code",
   "execution_count": null,
   "metadata": {},
   "outputs": [],
   "source": [
    "plt.style.use('ggplot')\n",
    "plt.rcParams['figure.figsize'] = [15, 9]\n",
    "plt.rcParams['font.size'] = 14\n",
    "\n",
    "pd.set_option('display.max_columns', None)"
   ]
  },
  {
   "cell_type": "code",
   "execution_count": null,
   "metadata": {},
   "outputs": [],
   "source": [
    "cwd = os.getcwd()\n",
    "\n",
    "ss_base_path = os.path.join(cwd, \"SingleSpeed\", \"base\", \"eplusout.csv\")\n",
    "ss_mod_path = os.path.join(cwd, \"SingleSpeed\", \"mod\", \"eplusout.csv\")"
   ]
  },
  {
   "cell_type": "code",
   "execution_count": null,
   "metadata": {},
   "outputs": [],
   "source": [
    "df_ss_base = pd.read_csv(ss_base_path)\n",
    "df_ss_base.drop(labels=\"Date/Time\", axis=1, inplace=True)\n",
    "df_ss_base.head(1)"
   ]
  },
  {
   "cell_type": "code",
   "execution_count": null,
   "metadata": {},
   "outputs": [],
   "source": [
    "df_ss_mod = pd.read_csv(ss_mod_path)\n",
    "df_ss_mod.drop(labels=\"Date/Time\", axis=1, inplace=True)\n",
    "df_ss_mod.head(1)"
   ]
  },
  {
   "cell_type": "code",
   "execution_count": null,
   "metadata": {},
   "outputs": [],
   "source": [
    "df_ss_mod.columns"
   ]
  },
  {
   "cell_type": "code",
   "execution_count": null,
   "metadata": {},
   "outputs": [],
   "source": [
    "def calc_heat_reclaimed_frac(df, clg_load, elect, recl):\n",
    "    return df[recl] / (df[clg_load] + df[elect])"
   ]
  },
  {
   "cell_type": "code",
   "execution_count": null,
   "metadata": {},
   "outputs": [],
   "source": [
    "df_ss_base[\"Heat Reclaimed [J]\"] = calc_heat_reclaimed_frac(df_ss_base, \n",
    "                                                            'ASHP CLG COIL:Cooling Coil Total Cooling Energy [J](Hourly)',\n",
    "                                                            'ASHP CLG COIL:Cooling Coil Electric Energy [J](Hourly)',\n",
    "                                                            'DESUPERHEATER:Water Heater Heating Energy [J](Hourly)')\n",
    "\n",
    "df_ss_mod[\"Heat Reclaimed [J]\"] = calc_heat_reclaimed_frac(df_ss_mod, \n",
    "                                                            'ASHP CLG COIL:Cooling Coil Total Cooling Energy [J](Hourly)',\n",
    "                                                            'ASHP CLG COIL:Cooling Coil Electric Energy [J](Hourly)',\n",
    "                                                            'DESUPERHEATER:Water Heater Heating Energy [J](Hourly)')"
   ]
  },
  {
   "cell_type": "code",
   "execution_count": null,
   "metadata": {},
   "outputs": [],
   "source": [
    "low_idx = 4200\n",
    "high_idx = 4800\n",
    "\n",
    "ax = df_ss_base.iloc[low_idx:high_idx].plot(y=\"Heat Reclaimed [J]\", label=\"develop\")\n",
    "df_ss_mod.iloc[low_idx:high_idx].plot(y=\"Heat Reclaimed [J]\", ax=ax, label=\"mod\")\n",
    "plt.title(\"Heat Reclaimed Frac [-]\")\n",
    "ax.set_xlabel(\"Hour\")"
   ]
  },
  {
   "cell_type": "code",
   "execution_count": null,
   "metadata": {},
   "outputs": [],
   "source": [
    "s1 = df_ss_base['WATER HEATER:Water Heater Source Side Heat Transfer Energy [J](Hourly)'].iloc[low_idx:high_idx]\n",
    "s2 = df_ss_base['DESUPERHEATER:Water Heater Heating Energy [J](Hourly)'].iloc[low_idx:high_idx]\n",
    "\n",
    "fig, (ax1, ax2) = plt.subplots(2, sharex=True)\n",
    "ax1.plot(s1, label=\"WH Src Side Energy [J]\")\n",
    "ax1.plot(s2, label=\"Desup Energy [J]\")\n",
    "ax1.set_ylabel(\"Energy [J]\")\n",
    "ax1.legend()\n",
    "\n",
    "diff = s1 - s2\n",
    "\n",
    "ax2.plot(diff)\n",
    "ax2.set_xlabel(\"Hour\")\n",
    "ax2.set_ylabel(\"Delta\")\n",
    "\n",
    "plt.suptitle(\"develop branch\")\n",
    "plt.show()"
   ]
  },
  {
   "cell_type": "code",
   "execution_count": null,
   "metadata": {},
   "outputs": [],
   "source": [
    "sum1 = s1.values.sum()\n",
    "sum2 = s2.values.sum()\n",
    "delta_sum = sum1 - sum2\n",
    "frac = (sum2 - sum1) / sum1 * 100\n",
    "\n",
    "Markdown(\"\"\"\n",
    "## Annual Energy Usage\n",
    "| WH Src Side Energy [J] | Desup Energy [J] | Delta [J] | Error [%]\n",
    "|-----------|---------|---------|---------|\n",
    "| {:.4E} | {:.4E} | {:.4E} | {:0.2f}\n",
    "\"\"\".format(sum1, sum2, delta_sum, frac))"
   ]
  },
  {
   "cell_type": "code",
   "execution_count": null,
   "metadata": {},
   "outputs": [],
   "source": [
    "s1 = df_ss_mod['WATER HEATER:Water Heater Source Side Heat Transfer Energy [J](Hourly)'].iloc[low_idx:high_idx]\n",
    "s2 = df_ss_mod['DESUPERHEATER:Water Heater Heating Energy [J](Hourly)'].iloc[low_idx:high_idx]\n",
    "\n",
    "fig, (ax1, ax2) = plt.subplots(2, sharex=True)\n",
    "\n",
    "ax1.plot(s1, label=\"WH Src Side Energy [J]\")\n",
    "ax1.plot(s2, label=\"Desup Energy [J]\")\n",
    "ax1.set_ylabel(\"Energy [J]\")\n",
    "ax1.legend()\n",
    "\n",
    "diff = s1 - s2\n",
    "\n",
    "ax2.plot(diff)\n",
    "ax2.set_xlabel(\"Hour\")\n",
    "ax2.set_ylabel(\"Delta\")\n",
    "\n",
    "plt.suptitle(\"mod branch\")\n",
    "plt.show()"
   ]
  },
  {
   "cell_type": "code",
   "execution_count": null,
   "metadata": {},
   "outputs": [],
   "source": [
    "sum1 = s1.values.sum()\n",
    "sum2 = s2.values.sum()\n",
    "delta_sum = sum1 - sum2\n",
    "frac = (sum2 - sum1) / sum1 * 100\n",
    "\n",
    "Markdown(\"\"\"\n",
    "## Annual Energy Usage\n",
    "| WH Src Side Energy [J] | Desup Energy [J] | Delta [J] | Error [%]\n",
    "|-----------|---------|---------|---------|\n",
    "| {:.4E} | {:.4E} | {:.4E} | {:0.2f}\n",
    "\"\"\".format(sum1, sum2, delta_sum, frac))"
   ]
  },
  {
   "cell_type": "code",
   "execution_count": null,
   "metadata": {},
   "outputs": [],
   "source": [
    "def plot_all_matches(df1, df2, low_idx=None, high_idx=None):\n",
    "    for col in df1.columns.values:\n",
    "        \n",
    "        s1 = None\n",
    "        s2 = None\n",
    "        \n",
    "        if not low_idx and not high_idx:\n",
    "            s1 = df1[col]\n",
    "            s2 = df2[col]\n",
    "        else:\n",
    "            s1 = df1[col].iloc[low_idx:high_idx]\n",
    "            s2 = df2[col].iloc[low_idx:high_idx]\n",
    "        \n",
    "        fig, (ax1, ax2) = plt.subplots(2, sharex=True)\n",
    "        \n",
    "        ax1.plot(s1, label=\"develop\")\n",
    "        ax1.plot(s2, label=\"mod\")\n",
    "        ax1.legend()\n",
    "        \n",
    "        ax2.plot(s1 - s2)\n",
    "        \n",
    "        ax2.set_ylabel(\"Delta\")\n",
    "        ax2.set_xlabel(\"Hour\")\n",
    "        \n",
    "        plt.suptitle(col)\n",
    "        plt.show()"
   ]
  },
  {
   "cell_type": "code",
   "execution_count": null,
   "metadata": {
    "scrolled": false
   },
   "outputs": [],
   "source": [
    "plot_all_matches(df_ss_base, df_ss_mod, low_idx=4200, high_idx=4800)"
   ]
  },
  {
   "cell_type": "code",
   "execution_count": null,
   "metadata": {},
   "outputs": [],
   "source": []
  }
 ],
 "metadata": {
  "kernelspec": {
   "display_name": "Python 3",
   "language": "python",
   "name": "python3"
  },
  "language_info": {
   "codemirror_mode": {
    "name": "ipython",
    "version": 3
   },
   "file_extension": ".py",
   "mimetype": "text/x-python",
   "name": "python",
   "nbconvert_exporter": "python",
   "pygments_lexer": "ipython3",
   "version": "3.7.5"
  }
 },
 "nbformat": 4,
 "nbformat_minor": 4
}
